{
 "cells": [
  {
   "cell_type": "markdown",
   "id": "98f4a435",
   "metadata": {},
   "source": [
    "1. Create an assert statement that throws an AssertionError if the variable spam is a negative integer.\n",
    "\n",
    "assert spam >= 0, \"Error: Spam must be a non-negative integer.\"\n"
   ]
  },
  {
   "cell_type": "code",
   "execution_count": 2,
   "id": "334bb685",
   "metadata": {},
   "outputs": [
    {
     "ename": "AssertionError",
     "evalue": "",
     "output_type": "error",
     "traceback": [
      "\u001b[1;31m---------------------------------------------------------------------------\u001b[0m",
      "\u001b[1;31mAssertionError\u001b[0m                            Traceback (most recent call last)",
      "\u001b[1;32m~\\AppData\\Local\\Temp/ipykernel_7632/3760023292.py\u001b[0m in \u001b[0;36m<module>\u001b[1;34m\u001b[0m\n\u001b[0;32m      1\u001b[0m \u001b[0mspam\u001b[0m\u001b[1;33m=\u001b[0m\u001b[1;33m-\u001b[0m\u001b[1;36m1\u001b[0m\u001b[1;33m\u001b[0m\u001b[1;33m\u001b[0m\u001b[0m\n\u001b[1;32m----> 2\u001b[1;33m \u001b[1;32massert\u001b[0m \u001b[0mspam\u001b[0m \u001b[1;33m>=\u001b[0m \u001b[1;36m0\u001b[0m\u001b[1;33m\u001b[0m\u001b[1;33m\u001b[0m\u001b[0m\n\u001b[0m",
      "\u001b[1;31mAssertionError\u001b[0m: "
     ]
    }
   ],
   "source": [
    "spam=-1\n",
    "assert spam >= 0"
   ]
  },
  {
   "cell_type": "markdown",
   "id": "adfa12af",
   "metadata": {
    "scrolled": true
   },
   "source": [
    "2. Write an assert statement that triggers an AssertionError if the variables eggs and bacon contain strings that are the same as each other, even if their cases are different (that is, 'hello' and 'hello' are considered the same, and 'goodbye' and 'GOODbye' are also considered the same).\n",
    "\n",
    "assert eggs.lower() != bacon.lower(), \"Error: Eggs and bacon cannot have the same value (case-insensitive).\"\n"
   ]
  },
  {
   "cell_type": "markdown",
   "id": "5a8f6b1b",
   "metadata": {},
   "source": [
    "3. Create an assert statement that throws an AssertionError every time.\n",
    "\n",
    "assert False, \"This assertion always fails.\""
   ]
  },
  {
   "cell_type": "markdown",
   "id": "c6b1cef7",
   "metadata": {},
   "source": [
    "4. What are the two lines that must be present in your software in order to call logging.debug()?\n",
    "\n",
    "import logging\n",
    "logging.basicConfig(level=logging.DEBUG)"
   ]
  },
  {
   "cell_type": "markdown",
   "id": "25f3681f",
   "metadata": {},
   "source": [
    "5. What are the two lines that your program must have in order to have logging.debug() send a logging message to a file named programLog.txt?\n",
    "\n",
    "import logging\n",
    "logging.basicConfig(filename='programLog.txt', level=logging.DEBUG)\n",
    "\n",
    "After these two lines you can then use the logging.debug() method to log messages at the DEBUG level, like so:\n",
    "logging.debug('This is a debug message')"
   ]
  },
  {
   "cell_type": "markdown",
   "id": "b27d5b22",
   "metadata": {},
   "source": [
    "6. What are the five levels of logging?\n",
    "\n",
    "The five levels of logging in Python are:\n",
    "\n",
    "DEBUG: Detailed information, typically of interest only when diagnosing problems.\n",
    "INFO: Confirmation that things are working as expected.\n",
    "WARNING: An indication that something unexpected or potentially problematic has happened, or indicative of some problem in the near future.\n",
    "ERROR: Due to a more serious problem, the software has not been able to perform some function.\n",
    "CRITICAL: A very serious error, indicating that the program itself may be unable to continue running."
   ]
  },
  {
   "cell_type": "markdown",
   "id": "39da50c2",
   "metadata": {},
   "source": [
    "7. What line of code would you add to your software to disable all logging messages?\n",
    "\n",
    "logging.disable(logging.CRITICAL)\n",
    "This line disables all logging messages at or below the CRITICAL level, which effectively turns off all logging output."
   ]
  },
  {
   "cell_type": "markdown",
   "id": "e881e938",
   "metadata": {},
   "source": [
    "8. Why is using logging messages better than using print() to display the same message?\n",
    "\n",
    "Using logging messages is generally considered better than using print() to display the same message for several reasons such as control over output, flexibility, faster performance, easy maintenance"
   ]
  },
  {
   "cell_type": "markdown",
   "id": "421cac11",
   "metadata": {},
   "source": [
    "9. What are the differences between the Step Over, Step In, and Step Out buttons in the debugger?\n",
    "\n",
    "Step Over: This button allows you to execute the current line of code and then move to the next line\n",
    "Step In: This button allows you to step into a function call on the current line of code.\n",
    "Step Out: This button allows you to step out of the current function and return to the calling function."
   ]
  },
  {
   "cell_type": "markdown",
   "id": "0ee3d8da",
   "metadata": {},
   "source": [
    "10. After you click Continue, when will the debugger stop ?\n",
    "\n",
    "After clicking the Continue button allows your program to run uninterrupted until it reaches a stopping point such as the end of the program, a breakpoint, an exception, or a keyboard interrupt."
   ]
  },
  {
   "cell_type": "markdown",
   "id": "0694c1ed",
   "metadata": {},
   "source": [
    "11. What is the concept of a breakpoint?\n",
    "\n",
    "A breakpoint is a point in the code where the debugger will pause program execution and allow us to inspect the state of the program. "
   ]
  }
 ],
 "metadata": {
  "kernelspec": {
   "display_name": "Python 3 (ipykernel)",
   "language": "python",
   "name": "python3"
  },
  "language_info": {
   "codemirror_mode": {
    "name": "ipython",
    "version": 3
   },
   "file_extension": ".py",
   "mimetype": "text/x-python",
   "name": "python",
   "nbconvert_exporter": "python",
   "pygments_lexer": "ipython3",
   "version": "3.9.7"
  }
 },
 "nbformat": 4,
 "nbformat_minor": 5
}
